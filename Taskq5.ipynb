{
 "cells": [
  {
   "cell_type": "markdown",
   "metadata": {},
   "source": [
    "$$\n",
    "w'X'Xw = w_0^2 \\sum_{i=1}^{n} x_{i1}^2 + 2w_0w_1 \\sum_{i=1}^{n} x_{i1}x_{i2} + w_1^2 \\sum_{i=1}^{n} x_{i2}^2\n",
    "$$\n"
   ]
  },
  {
   "cell_type": "markdown",
   "metadata": {},
   "source": [
    "### Where:\n",
    "\n",
    "$$\n",
    "w = \\begin{bmatrix} \n",
    "w_0 \\\\ \n",
    "w_1 \n",
    "\\end{bmatrix}, \\quad\n",
    "X = \\begin{bmatrix} \n",
    "x_{11} & x_{12} \\\\\n",
    "x_{21} & x_{22} \\\\\n",
    "\\vdots & \\vdots \\\\\n",
    "x_{n1} & x_{n2} \n",
    "\\end{bmatrix}\n",
    "$$\n"
   ]
  },
  {
   "cell_type": "markdown",
   "metadata": {},
   "source": [
    "### Solution"
   ]
  },
  {
   "cell_type": "markdown",
   "metadata": {},
   "source": [
    "###### To solve this step-by-step based on the hint provided, let's break it down. The goal is to compute \n",
    "$$\n",
    "𝑤\n",
    "′\n",
    "𝑋\n",
    "′\n",
    "𝑋\n",
    "𝑤\n",
    "$$ \n",
    " ###### and show that it results in the given expression:"
   ]
  },
  {
   "cell_type": "markdown",
   "metadata": {},
   "source": [
    "$$\n",
    "\\ w'X'Xw = w_0^2 \\sum_{i=1}^{n} x_{i1}^2 + 2w_0w_1 \\sum_{i=1}^{n} x_{i1}x_{i2} + w_1^2 \\sum_{i=1}^{n} x_{i2}^2\n",
    "$$\n"
   ]
  },
  {
   "cell_type": "markdown",
   "metadata": {},
   "source": [
    "##### Step I: Compute X'X"
   ]
  },
  {
   "cell_type": "markdown",
   "metadata": {},
   "source": [
    "\\\n",
    "X = \n",
    "\\begin{pmatrix}\n",
    "x_{11} & x_{12} \\\\\n",
    "x_{21} & x_{22} \\\\\n",
    "\\vdots & \\vdots \\\\\n",
    "x_{n1} & x_{n2}\n",
    "\\end{pmatrix}\n",
    "\n"
   ]
  },
  {
   "cell_type": "markdown",
   "metadata": {},
   "source": [
    "###### The transpose X' of X would be:"
   ]
  },
  {
   "cell_type": "markdown",
   "metadata": {},
   "source": [
    "\n",
    "X' = \n",
    "\\begin{pmatrix}\n",
    "x_{11} & x_{12} & \\cdots & x_{1n} \\\\\n",
    "x_{21} & x_{22} & \\cdots & x_{2n}\n",
    "\\end{pmatrix}\n"
   ]
  },
  {
   "cell_type": "markdown",
   "metadata": {},
   "source": [
    "###### Therefore:\n",
    "$$\n",
    "X'X = \\begin{bmatrix} \n",
    "x_{11} & x_{21} & \\cdots & x_{n1} \\\\ \n",
    "x_{12} & x_{22} & \\cdots & x_{n2} \n",
    "\\end{bmatrix}\n",
    "\\quad\n",
    ".\n",
    "\\begin{bmatrix} \n",
    "x_{11} & x_{12} \\\\ \n",
    "x_{21} & x_{22} \\\\ \n",
    "\\vdots & \\vdots \\\\ \n",
    "x_{n1} & x_{n2} \n",
    "\\end{bmatrix}\n",
    "$$\n"
   ]
  },
  {
   "cell_type": "markdown",
   "metadata": {},
   "source": [
    "###### Multiplying the first row of X' by the first column of X..."
   ]
  },
  {
   "cell_type": "markdown",
   "metadata": {},
   "source": [
    "$$ \\sum_{i=1}^{n} x_{i1} \\cdot x_{i1} = x_{11}^2 + x_{21}^2 + \\dots + x_{n1}^2 $$"
   ]
  },
  {
   "cell_type": "markdown",
   "metadata": {},
   "source": [
    "###### First row of X' by second column of X..."
   ]
  },
  {
   "cell_type": "markdown",
   "metadata": {},
   "source": [
    "$$ \\sum_{i=1}^{n} x_{i1} \\cdot x_{i2} = x_{11} x_{12} + x_{21} x_{22} + \\dots + x_{n1} x_{n2} $$"
   ]
  },
  {
   "cell_type": "markdown",
   "metadata": {},
   "source": [
    "###### Second row of X'by first column of X..."
   ]
  },
  {
   "cell_type": "markdown",
   "metadata": {},
   "source": [
    "$$ \\sum_{i=1}^{n} x_{i2} \\cdot x_{i1} = x_{12} x_{11} + x_{22} x_{21} + \\dots + x_{n2} x_{n1} $$"
   ]
  },
  {
   "cell_type": "markdown",
   "metadata": {},
   "source": [
    "###### Second row of X' by second column of X..."
   ]
  },
  {
   "cell_type": "markdown",
   "metadata": {},
   "source": [
    "$$ \\sum_{i=1}^{n} x_{i2} \\cdot x_{i2} = x_{12}^2 + x_{22}^2 + \\dots + x_{n2}^2 $$"
   ]
  },
  {
   "cell_type": "markdown",
   "metadata": {},
   "source": [
    "###### The product is given as"
   ]
  },
  {
   "cell_type": "markdown",
   "metadata": {},
   "source": [
    "\n",
    "X'X = \n",
    "\\begin{pmatrix}\n",
    "\\sum_{i=1}^{n} x_{i1}^2 & \\sum_{i=1}^{n} x_{i1} x_{i2} \\\\\n",
    "\\sum_{i=1}^{n} x_{i1} x_{i2} & \\sum_{i=1}^{n} x_{i2}^2\n",
    "\\end{pmatrix}\n",
    "\n"
   ]
  },
  {
   "cell_type": "markdown",
   "metadata": {},
   "source": [
    "##### Step II: Compute X'Xw\n"
   ]
  },
  {
   "cell_type": "markdown",
   "metadata": {},
   "source": [
    "###### The vector w is\n"
   ]
  },
  {
   "cell_type": "markdown",
   "metadata": {},
   "source": [
    "w = \n",
    "\\begin{pmatrix}\n",
    "w_0 \\\\\n",
    "w_1\n",
    "\\end{pmatrix}\n"
   ]
  },
  {
   "cell_type": "markdown",
   "metadata": {},
   "source": [
    "###### Now we multiply X'X by w\n"
   ]
  },
  {
   "cell_type": "markdown",
   "metadata": {},
   "source": [
    "X' X w = \n",
    "$$\\begin{pmatrix}\n",
    "\\sum_{i=1}^{n} x_{i1}^2 & \\sum_{i=1}^{n} x_{i1} x_{i2} \\\\\n",
    "\\sum_{i=1}^{n} x_{i1} x_{i2} & \\sum_{i=1}^{n} x_{i2}^2\n",
    "\\end{pmatrix}\n",
    "\\begin{pmatrix}\n",
    "w_0 \\\\\n",
    "w_1\n",
    "\\end{pmatrix} $$"
   ]
  },
  {
   "cell_type": "markdown",
   "metadata": {},
   "source": [
    "######  First row of X'X by the corresponding elements of w gives..."
   ]
  },
  {
   "cell_type": "markdown",
   "metadata": {},
   "source": [
    "$$ \\left( \\sum_{i=1}^{n} x_{i1}^2 \\right) \\cdot w_{0} + \\left( \\sum_{i=1}^{n} x_{i1} x_{i2} \\right) \\cdot w_{1} $$"
   ]
  },
  {
   "cell_type": "markdown",
   "metadata": {},
   "source": [
    "###### Second row of X'X by the corresponding elements of w gives..."
   ]
  },
  {
   "cell_type": "markdown",
   "metadata": {},
   "source": [
    "$$ \\left( \\sum_{i=1}^{n} x_{i1} x_{i2} \\right) \\cdot w_{0} + \\left( \\sum_{i=1}^{n} x_{i2}^2 \\right) \\cdot w_{1} $$"
   ]
  },
  {
   "cell_type": "markdown",
   "metadata": {},
   "source": [
    "###### The product gives:"
   ]
  },
  {
   "cell_type": "markdown",
   "metadata": {},
   "source": [
    "X' X w = \n",
    "\\begin{pmatrix}\n",
    "w_0 \\sum_{i=1}^{n} x_{i1}^2 + w_1 \\sum_{i=1}^{n} x_{i1} x_{i2} \\\\\n",
    "w_0 \\sum_{i=1}^{n} x_{i1} x_{i2} + w_1 \\sum_{i=1}^{n} x_{i2}^2\n",
    "\\end{pmatrix}"
   ]
  },
  {
   "cell_type": "markdown",
   "metadata": {},
   "source": [
    "##### Step III: Compute w'(X'Xw)"
   ]
  },
  {
   "cell_type": "markdown",
   "metadata": {},
   "source": [
    "###### Now we left multiply the result by w', that is, the transpose of w:"
   ]
  },
  {
   "cell_type": "markdown",
   "metadata": {},
   "source": [
    "$$ w'= \\begin{pmatrix}\n",
    "w_0 & w_1\n",
    "\\end{pmatrix} $$"
   ]
  },
  {
   "cell_type": "markdown",
   "metadata": {},
   "source": [
    "###### Multiply w' by X'Xw"
   ]
  },
  {
   "cell_type": "markdown",
   "metadata": {},
   "source": [
    "$$\n",
    "w' X' X w = \n",
    "\\begin{pmatrix}\n",
    "w_0 & w_1\n",
    "\\end{pmatrix}\n",
    "\\begin{pmatrix}\n",
    "w_0 \\sum_{i=1}^{n} x_{i1}^2 + w_1 \\sum_{i=1}^{n} x_{i1} x_{i2} \\\\\n",
    "w_0 \\sum_{i=1}^{n} x_{i1} x_{i2} + w_1 \\sum_{i=1}^{n} x_{i2}^2\n",
    "\\end{pmatrix}\n",
    "$$\n"
   ]
  },
  {
   "cell_type": "markdown",
   "metadata": {},
   "source": [
    "###### For the first entry, we get..."
   ]
  },
  {
   "cell_type": "markdown",
   "metadata": {},
   "source": [
    "$$ w_{0} \\left( w_{0} \\left( \\sum_{i=1}^{n} x_{i1}^2 \\right) + w_{1} \\left( \\sum_{i=1}^{n} x_{i1} x_{i2} \\right) \\right) $$"
   ]
  },
  {
   "cell_type": "markdown",
   "metadata": {},
   "source": [
    "###### For the second entry, we get..."
   ]
  },
  {
   "cell_type": "markdown",
   "metadata": {},
   "source": [
    "$$ w_{1} \\left( w_{0} \\left( \\sum_{i=1}^{n} x_{i1} x_{i2} \\right) + w_{1} \\left( \\sum_{i=1}^{n} x_{i2}^2 \\right) \\right) $$"
   ]
  },
  {
   "cell_type": "markdown",
   "metadata": {},
   "source": [
    "###### The gives..."
   ]
  },
  {
   "cell_type": "markdown",
   "metadata": {},
   "source": [
    "$$\n",
    "w' X' X w = w_0 \\left( w_0 \\sum_{i=1}^{n} x_{i1}^2 + w_1 \\sum_{i=1}^{n} x_{i1} x_{i2} \\right) + w_1 \\left( w_0 \\sum_{i=1}^{n} x_{i1} x_{i2} + w_1 \\sum_{i=1}^{n} x_{i2}^2 \\right)\n",
    "$$"
   ]
  },
  {
   "cell_type": "markdown",
   "metadata": {},
   "source": [
    "###### Expand and collect like terms"
   ]
  },
  {
   "cell_type": "markdown",
   "metadata": {},
   "source": [
    "$$\n",
    "w'X' X w = w_0^2 \\sum_{i=1}^{n} x_{i1}^2 + w_0 w_1 \\sum_{i=1}^{n} x_{i1} x_{i2} + w_1 w_0 \\sum_{i=1}^{n} x_{i1} x_{i2} + w_1^2 \\sum_{i=1}^{n} x_{i2}^2\n",
    "$$\n"
   ]
  },
  {
   "cell_type": "markdown",
   "metadata": {},
   "source": [
    "###### Add up like terms"
   ]
  },
  {
   "cell_type": "markdown",
   "metadata": {},
   "source": [
    "$$\n",
    "w' X' X w = w_0^2 \\sum_{i=1}^{n} x_{i1}^2 + 2 w_0 w_1 \\sum_{i=1}^{n} x_{i1} x_{i2} + w_1^2 \\sum_{i=1}^{n} x_{i2}^2\n",
    "$$"
   ]
  },
  {
   "cell_type": "markdown",
   "metadata": {},
   "source": [
    "##### This proves that the expression is correct and thus:"
   ]
  },
  {
   "cell_type": "markdown",
   "metadata": {},
   "source": [
    "$$\n",
    "w' X' X w = w_0^2 \\sum_{i=1}^{n} x_{i1}^2 + 2 w_0 w_1 \\sum_{i=1}^{n} x_{i1} x_{i2} + w_1^2 \\sum_{i=1}^{n} x_{i2}^2\n",
    "$$\n"
   ]
  },
  {
   "cell_type": "markdown",
   "metadata": {},
   "source": [
    "\n",
    "<br>"
   ]
  },
  {
   "cell_type": "markdown",
   "metadata": {},
   "source": [
    "<br>"
   ]
  },
  {
   "cell_type": "markdown",
   "metadata": {},
   "source": [
    "<br>"
   ]
  },
  {
   "cell_type": "markdown",
   "metadata": {},
   "source": [
    "## Question (2)"
   ]
  },
  {
   "cell_type": "markdown",
   "metadata": {},
   "source": [
    "#### Using Python, write a script to compute the parameters 𝑤0 and 𝑤1 for a given dataset of pairs (𝑥𝑖, 𝑡𝑖),where 𝑥 is the vector of years when Olympic games were held, and 𝑡 is the winning time in seconds.\n",
    "\n",
    "##### • Implement linear regression to fit the best line 𝑡 = 𝑤0 + 𝑤1 ⋅ 𝑥.\n",
    "##### • Compute the values of 𝑤0 and 𝑤1 using the normal equation.\n",
    "##### • Plot the data points and the fitted line."
   ]
  },
  {
   "cell_type": "markdown",
   "metadata": {},
   "source": [
    "### Solution"
   ]
  },
  {
   "cell_type": "markdown",
   "metadata": {},
   "source": [
    "## Note:\n",
    "\n",
    "##### The Yaml file provided for this assignment was not in the original yaml format and hence, the data was restructured to conform to yaml format. The initial data was in a custom string format that resembled Python variable assignments."
   ]
  },
  {
   "cell_type": "markdown",
   "metadata": {},
   "source": [
    "Initial format given:\n",
    "x = [1896, 1900, 1904, 1908, 1912, 1920, 1924, 1928, 1932, 1936, 1948, 1952, 1956, 1960, 1964, 1968, 1972, 1976, 1980, 1984, 1988, 1992, 1996, 2000, 2004, 2008, 2012, 2016]\n",
    "t = [12.0, 11.8, 11.5, 10.8, 10.6, 10.8, 10.5, 10.4, 10.3, 10.3, 10.2, 10.4, 10.2, 10.0, 9.9, 9.9, 9.9, 9.9, 9.9, 9.9, 9.9, 9.8, 9.9, 9.8, 9.8, 9.7, 9.6, 9.8]\n",
    "\n",
    "Restructured format utilised:\n",
    "x : [1896, 1900, 1904, 1908, 1912, 1920, 1924, 1928, 1932, 1936, 1948, 1952, 1956, 1960, 1964, 1968, 1972, 1976, 1980, 1984, 1988, 1992, 1996, 2000, 2004, 2008, 2012, 2016]\n",
    "t : [12.0, 11.8, 11.5, 10.8, 10.6, 10.8, 10.5, 10.4, 10.3, 10.3, 10.2, 10.4, 10.2, 10.0, 9.9, 9.9, 9.9, 9.9, 9.9, 9.9, 9.9, 9.8, 9.9, 9.8, 9.8, 9.7, 9.6, 9.8]"
   ]
  },
  {
   "cell_type": "code",
   "execution_count": 1,
   "metadata": {},
   "outputs": [
    {
     "name": "stdout",
     "output_type": "stream",
     "text": [
      "w0 (intercept): 38.8660\n",
      "w1 (slope): -0.0146\n"
     ]
    },
    {
     "data": {
      "image/png": "[encoded data removed]",
      "text/plain": [
       "<Figure size 1200x600 with 1 Axes>"
      ]
     },
     "metadata": {},
     "output_type": "display_data"
    }
   ],
   "source": [
    "import yaml\n",
    "import numpy as np\n",
    "import matplotlib.pyplot as plt\n",
    "\n",
    "# Load the data from the YAML file\n",
    "file_path = r\"C:\\Users\\Nantap Ditep\\Anaconda\\hw1_data.yaml\"\n",
    "with open(file_path, 'r') as file:\n",
    "    data = yaml.safe_load(file)\n",
    "\n",
    "# Extract x (years) and t (winning times) from the data\n",
    "x = np.array(data['x'])\n",
    "t = np.array(data['t'])\n",
    "\n",
    "# Prepare the design matrix X\n",
    "X = np.column_stack((np.ones_like(x), x))\n",
    "\n",
    "# Compute w0 and w1 using the normal equation\n",
    "w = np.linalg.inv(X.T @ X) @ X.T @ t\n",
    "\n",
    "w0, w1 = w\n",
    "\n",
    "print(f\"w0 (intercept): {w0:.4f}\")\n",
    "print(f\"w1 (slope): {w1:.4f}\")\n",
    "\n",
    "# Generate points for the fitted line\n",
    "x_line = np.array([min(x), max(x)])\n",
    "t_line = w0 + w1 * x_line\n",
    "\n",
    "# Plot the data points and the fitted line\n",
    "plt.figure(figsize=(12, 6))\n",
    "plt.scatter(x, t, color='blue', label='Data points')\n",
    "plt.plot(x_line, t_line, color='red', label='Fitted line')\n",
    "plt.xlabel('Year')\n",
    "plt.ylabel('Winning Time (seconds)')\n",
    "plt.title('Olympic 100m Sprint Winning Times: Data and Linear Regression')\n",
    "plt.legend()\n",
    "plt.grid(True)\n",
    "plt.show()"
   ]
  },
  {
   "cell_type": "markdown",
   "metadata": {},
   "source": [
    "<br>"
   ]
  },
  {
   "cell_type": "markdown",
   "metadata": {},
   "source": [
    "<br>"
   ]
  },
  {
   "cell_type": "markdown",
   "metadata": {},
   "source": [
    "<br>"
   ]
  }
 ],
 "metadata": {
  "kernelspec": {
   "display_name": "base",
   "language": "python",
   "name": "python3"
  },
  "language_info": {
   "codemirror_mode": {
    "name": "ipython",
    "version": 3
   },
   "file_extension": ".py",
   "mimetype": "text/x-python",
   "name": "python",
   "nbconvert_exporter": "python",
   "pygments_lexer": "ipython3",
   "version": "3.12.4"
  }
 },
 "nbformat": 4,
 "nbformat_minor": 2
}
